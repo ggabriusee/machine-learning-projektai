{
 "cells": [
  {
   "cell_type": "markdown",
   "metadata": {},
   "source": [
    "# Neuronų tinklai\n",
    "\n",
    "## Basic concept\n",
    "\n",
    "### Perceptronas\n",
    "\n",
    "Pirmoji idėja yra perceptronas, tai yra dirbtinis neuronas. Paprastai įsivaizduojant neuroną galima sakyti, kad jis susideda iš dentritų (įvestys), branduolio (skaičiavimų/funkcijos) ir aksono (išvsesties). Tą galime išreikšti matematiškai.\n",
    "Perceptrono modelio pvz.: y = (x1w1+b) + (x2w2+b) + ...\n",
    "y - išvestis, x1x2... - įvestys, suma - skaičiavimas, gali būti bet kokia funkcija, w1w2 - svoriai, kurie yra koreguojami mokymosi metu, skirti, kad būtų galima \"mokytis\" t.y. keisti juos, kad geriau atitiktų išvestį (kontroliuojamas mokymasis), b - bias term, papildomas kintamasis, skirtas atsižvelgti į tai, kad įvestis gali būti 0, tuo atveju nesvarbu kaip keitaliosim svorį, nieko neišmoksim, tai atsiranda papildomas parametras.\n",
    "\n",
    "### Neuronų tinklas\n",
    "\n",
    "Vienas perceptronas, kaip ir vienas neuronas aišku nėra labai protinga. Taigi, perceptronus galime susjungti į daugiasluoksnį perceptronų modelį - neuronų tinklą. Šiame modelyje jungiami perceptronų sluoksniai (kiekvienas perceptronas sujungtas su kito sluoksnio kiekvienu perceptronu). Vieno perceptrono išvestis yra kito įvestis. Modelis susideda iš įvesties sluoksnio, paslėptų sluoksnių, išvesties sluoksnių. Neuronų tinklas skaitomas kaip gylus neuronų tinklas, kai paslėptų sluoksnių >= 2. Juos sunku interpretuoti, nes jų gali būti daug, visaip sujungtų ir neaišku ką kiekvienas sluoksnis tiksliai daro. Tinklo **plotis** (width) - kiek neuronų tinkle, tinklo **gylis** - kiek sluoksnių yra tinkle.\n",
    "\n",
    "Matematiškai įrodyta, kad kiekvienai tolydžiai funkcijai (kurią galima integruoti) egzistuoja neuronų tinklas aproksimuojantis tą funkciją (universal approximation theorem).\n",
    "\n",
    "### Aktivacijos funkcijos\n",
    "\n",
    "Sprendžiant realias užduotis, dažnai reikia, kad tinklo funkcija grąžintų išvestį tik tarp tam tikrų ribų, pvz. [0,1]. Tuomet kiekviena išvestis yra tikimybė parodanti tos išvesties tikėtinumą. Jeigu tiesiog sumuosim kaip mūsų perceptrono pvz. tai neturėsim viršutinio išvesties rėžio. Šiems rėžiams gauti naudojamos aktivacijos funkcijos.\n",
    "\n",
    "Paprastas perceptronas - y = x * w + b. Svoris, parodo įvesties svarbą, kuo didesnis tuo svarbesnis x. Apie b parametrą galima galvoti kaip apie **kompensavimo** parametrą, jis parodo kokį slenkstį reikia pasiekti, kad x * w turėtų prasmingą efektą funkcijos išvesčiai. Pvz. b = -10. Kol x * w < 10, tol b turi didelę svarbą, bet po to jau svorio svarba didėja.\n",
    "\n",
    "Aktivacijos funkcija kaip įvestį priėma x * w + b. Pavadinkime tai z. Taigi aktivacijos funkcija f(z) - transformuoja neurono išvestį į kitokius rėžius. \n",
    "\n",
    "Populiarios aktivacijos funkcijos klasifikavimo užduotims: \n",
    "\n",
    "* sigmoid funkcija: f(z) = 1/(1+e^(-z)). Ji transformuoja išvestį į tarp [0;1] ir atsižvelgia į mažus z pokyčius. \n",
    "* hiperbolinis tangentas: tanh(z) = sinh(z) / cosh(z), kur sinh(z) = (e^z - e^(-z)) / 2 ir cosh(z) =  (e^z + e^(-z)) / 2. Atrodo taip pat kaip sigmoid funkcija, bet apibrėžimo sritis yra [-1;1].\n",
    "* ReLU (Rectified linear unit) f(z) = max(0,z). Jeigu z mažiau lygu už 0, tai nulis, bet jeigu daugiau, tai pati z reikšmė. Ši aktivacijos funkcija dažnai naudojama kaip default, nes rasta, kad turi gerą performance. Padeda išspręsti **vanishing gradient** problemą.\n",
    "\n",
    "Visos šios aktivacijos funkcijos skirtos regresijai arba binarinei klasifikacijai. O kaip su daugiaklase klasifikacija ? Tuomet išvesties sluoksnio tinklui padidinamas plotis. Neuronų tinklui reikalingos skaitinės reikšmės. Jeigu turim strings, tuomet naudojam one-hot encoding (dummy variables). Multiklasifikavimo situacijos gali būti dvi:\n",
    "* klasės suderintos - duomenų įrašas/taškas gali turėti kelias klasės reikšmes vienu metu. Galima naudoti sigmoid funkciją, sakom jeigu neurono tikimybę > 0.5, tai  turės to neurono klasės reikšmę (tokiu atvejų gali būti daugiau negu vienas, suderinta - įgauna reikšmių masyvą)\n",
    "* klasės nesuderintos - duomenų įrašas/taškas turi tik vieną klasės reikšmę. Naudojama softmax aktivacijos funkcija. Ji duoda tikimybes, tuomet kiekvienas išvesties neuronas parodo su juo asocijuotos klasės reikšmės tikėtinumą (tikimybę). \n",
    "\n",
    "Side note: realiame gyvenime z yra matrica (tensorius) todėl dažnai vadovėliuose parodyta kaip Z.\n",
    "\n",
    "## Kaip tinklas mokosi ?\n",
    "\n",
    "### Klaidų funkcijos\n",
    "\n",
    "Klaidos funkija padeda įvertinti modelio spėjimo paklaidą (mokymosi/treniravimosi metu) lyginant su žinoma klasės reikšme (kontroliuojamas mokymas). Viena iš populiariausių klaidos funkcijų yra kvadratinė klaidos funkcija - tai tiesiog MSE (mean squared error), bet pritaikyta multidimensiniems duomenims. Iš kiekvienos tikrosios reikšmės atėmame spėtą ir tą skirtumą pakeliame kvadratu (kad turėt absoliųtų įvertį ir bausti didelius skirtumus/paklaidas) ir sumuojam visus įrašų skirtumus. Taigi, (y - a(x))^2, kur y - tikroji reikšmė, a - aktivacijos funkcija. Viską sumuojam ir padalinam iš 2 * n (gaunasi, vidurkis/2).\n",
    "\n",
    "Reikia nepamiršti tikslo - minimizuoti paklaidas. Kaip sužinoti kurie svoriai sukelia mažiausias paklaidas ? Tai yra tiesiog problema surasti klaidos funkcijos mažiausią reikšmę. Galima spresti lygtis išvestinė = 0. Tačiau reliame pasaulyje klaidų funkcijos labai sudėtingos, daugiadimensinės(daug svorių), net kompiuteriams labai daug laiko reiktų spręsti analitiškai. Dėl to naudojamas stochastinis metodas - gradientas (gradient descent).\n",
    "\n",
    "#### Gradiento metodas\n",
    "\n",
    "Pasirenkam atsitiktinį funkcijos tašką. Randam to taško slope (nuolydis). Pagal tą slope \"einam\" per funkciją žemyn ir kartojam kitam taškui kol randam slope arti 0 (radom minimumą) arba baigėsi iteracijų skaičius. Kitą tašką randam pagal step size, kurį patys pasirenkame. Kuo daugiau steps, tuo daugiau taškų tikrinam, bet tuo ilgiau užtrunka rasti minimumą. Kuo mažesnis tuo geričiau, bet galim per daug \"nueiti\" ir \"nepagauti\" minimumo, o atsidurti prie teigiamo slope. Step size ML kontekste vadinamas learning rate, tai yra hyperparametras neuronų tinklo. Kiek taškų tikrinam t.y. kiek iteracijų irgi yra hyperparametras.\n",
    "\n",
    "sekantis taškas = pradinis taškas - learning rate * funkcijos, kurios minimumą ieškom išvestinė pradiniame taške.\n",
    "\n",
    "Adaptyvus gradientas - kai step size nėra pastovaus dydžio. Tarkim iš pradžių nuo taško iki taško pereinam dideliais žingsniais, o atrėjant prie minimumo mažinam. Čia vienas būdas, bet yra kitų, dėl to galima rinktis įvairius adaptyvaus gradiento algoritmus, vienu iš geriausiu skaitosi - Adam (optimizuotas adaptyvus gradientas).\n",
    "\n",
    "Kai kalba eina apie n-dimensinius vektorius (tensorius) išvestinė vadinama gradientu (matematinė notacija - apverstas trikampis).\n",
    "\n",
    "Dažnai klasifikacijoje klaidos funkcija pasirenkama - cross entropy function. Sakoma, kad modelis spėja tikimybinį pasiskirstymą kiekvienai klasei. Tinka tiek binarinei, tiek multiklasinei klasifikacijai. \n",
    "\n",
    "### Backpropogation\n",
    "\n",
    "Backpropogation esmė - atnaujinti tinklo svorius ir šališkumo/kompensavimo parametrą. Atnaujinam atsižvelgiant į klaidos funkcijos minimumą. Grįžtam nuo išvesties neurono atgaline tvarka iki įvesties neurono. Mes norim suprasti ant kiek klaidos funkcija jautri svorių pasikeitimams. Dėl to grįžtan per visus neuronus ir sluoksnius, kiekviename sluoksnyje pritaikom \"chain-rule\", kad išsireikšti klaidos funkciją parametrų atžvilgiu, tuomet skaičiuojame dalinės išvestinės tų parametrų atžvilgiu (svorio ir šališkumo) ir naudodami gradient descent randam minimumus. Taigi, mes \"nešame\" paklaidą atgal per sluoksnius ir pagal tai atnaujinam svorius ir šališkumą."
   ]
  },
  {
   "cell_type": "code",
   "execution_count": 1,
   "metadata": {
    "collapsed": true
   },
   "outputs": [],
   "source": [
    "import numpy as np\n",
    "import pandas as pd\n",
    "import matplotlib.pyplot as plt\n",
    "import seaborn as sns"
   ]
  },
  {
   "cell_type": "markdown",
   "metadata": {},
   "source": [
    "## Regresijos pvz."
   ]
  },
  {
   "cell_type": "code",
   "execution_count": 2,
   "metadata": {},
   "outputs": [
    {
     "data": {
      "text/html": [
       "<div>\n",
       "<style scoped>\n",
       "    .dataframe tbody tr th:only-of-type {\n",
       "        vertical-align: middle;\n",
       "    }\n",
       "\n",
       "    .dataframe tbody tr th {\n",
       "        vertical-align: top;\n",
       "    }\n",
       "\n",
       "    .dataframe thead th {\n",
       "        text-align: right;\n",
       "    }\n",
       "</style>\n",
       "<table border=\"1\" class=\"dataframe\">\n",
       "  <thead>\n",
       "    <tr style=\"text-align: right;\">\n",
       "      <th></th>\n",
       "      <th>price</th>\n",
       "      <th>feature1</th>\n",
       "      <th>feature2</th>\n",
       "    </tr>\n",
       "  </thead>\n",
       "  <tbody>\n",
       "    <tr>\n",
       "      <th>0</th>\n",
       "      <td>461.527929</td>\n",
       "      <td>999.787558</td>\n",
       "      <td>999.766096</td>\n",
       "    </tr>\n",
       "    <tr>\n",
       "      <th>1</th>\n",
       "      <td>548.130011</td>\n",
       "      <td>998.861615</td>\n",
       "      <td>1001.042403</td>\n",
       "    </tr>\n",
       "    <tr>\n",
       "      <th>2</th>\n",
       "      <td>410.297162</td>\n",
       "      <td>1000.070267</td>\n",
       "      <td>998.844015</td>\n",
       "    </tr>\n",
       "    <tr>\n",
       "      <th>3</th>\n",
       "      <td>540.382220</td>\n",
       "      <td>999.952251</td>\n",
       "      <td>1000.440940</td>\n",
       "    </tr>\n",
       "    <tr>\n",
       "      <th>4</th>\n",
       "      <td>546.024553</td>\n",
       "      <td>1000.446011</td>\n",
       "      <td>1000.338531</td>\n",
       "    </tr>\n",
       "  </tbody>\n",
       "</table>\n",
       "</div>"
      ],
      "text/plain": [
       "        price     feature1     feature2\n",
       "0  461.527929   999.787558   999.766096\n",
       "1  548.130011   998.861615  1001.042403\n",
       "2  410.297162  1000.070267   998.844015\n",
       "3  540.382220   999.952251  1000.440940\n",
       "4  546.024553  1000.446011  1000.338531"
      ]
     },
     "execution_count": 2,
     "metadata": {},
     "output_type": "execute_result"
    }
   ],
   "source": [
    "df = pd.read_csv('inp_files/fake_reg.csv')\n",
    "df.head()"
   ]
  },
  {
   "cell_type": "code",
   "execution_count": 22,
   "metadata": {},
   "outputs": [
    {
     "name": "stdout",
     "output_type": "stream",
     "text": [
      "<class 'pandas.core.frame.DataFrame'>\n",
      "RangeIndex: 1000 entries, 0 to 999\n",
      "Data columns (total 3 columns):\n",
      " #   Column    Non-Null Count  Dtype  \n",
      "---  ------    --------------  -----  \n",
      " 0   price     1000 non-null   float64\n",
      " 1   feature1  1000 non-null   float64\n",
      " 2   feature2  1000 non-null   float64\n",
      "dtypes: float64(3)\n",
      "memory usage: 23.6 KB\n"
     ]
    }
   ],
   "source": [
    "df.info()"
   ]
  },
  {
   "cell_type": "code",
   "execution_count": 3,
   "metadata": {},
   "outputs": [
    {
     "data": {
      "image/png": "[encoded data removed]",
      "text/plain": [
       "<Figure size 540x540 with 12 Axes>"
      ]
     },
     "metadata": {},
     "output_type": "display_data"
    }
   ],
   "source": [
    "sns.pairplot(df)\n",
    "plt.show() # matome, kad feature2 koreliuoja su price"
   ]
  },
  {
   "cell_type": "code",
   "execution_count": 4,
   "metadata": {
    "collapsed": true
   },
   "outputs": [],
   "source": [
    "from sklearn.model_selection import train_test_split"
   ]
  },
  {
   "cell_type": "code",
   "execution_count": 5,
   "metadata": {
    "collapsed": true
   },
   "outputs": [],
   "source": [
    "X = df.drop('price',axis=1)\n",
    "y = df['price']"
   ]
  },
  {
   "cell_type": "code",
   "execution_count": 6,
   "metadata": {
    "collapsed": true
   },
   "outputs": [],
   "source": [
    "X_train, X_test, y_train, y_test = train_test_split(X,y,test_size=0.3,random_state=42)"
   ]
  },
  {
   "cell_type": "code",
   "execution_count": 7,
   "metadata": {
    "collapsed": true
   },
   "outputs": [],
   "source": [
    "from sklearn.preprocessing import MinMaxScaler\n",
    "scaler = MinMaxScaler()\n",
    "# kadangi neuroniniame tinkle vyksta daugyba, tai gali susikaupti didelės reikšmės, dėl to gali nukentėti\n",
    "# tikslumas (kompiuteriui sunku tikslaiai paskaičiuoti floats reikšmes).\n",
    "# Tai yra vanishing gradient problema"
   ]
  },
  {
   "cell_type": "code",
   "execution_count": 8,
   "metadata": {
    "collapsed": true
   },
   "outputs": [],
   "source": [
    "X_train = scaler.fit_transform(X_train) # fit on training set\n",
    "X_test = scaler.transform(X_test) # we don't fit on test set to prevent data leakage\n",
    "# neturėtume žinoti apie testavimo duomenis treniruojant, scale'inant, nes tai būtų sukčiavimas. \n",
    "# Norime patikrinti ant nematytų/nežinitų duomenų."
   ]
  },
  {
   "cell_type": "code",
   "execution_count": 15,
   "metadata": {
    "collapsed": true
   },
   "outputs": [],
   "source": [
    "from tensorflow.keras.models import Sequential\n",
    "from tensorflow.keras.layers import Dense\n",
    "# tensorflow - neuroninių tinklų lib\n",
    "# keras - kitas libas, kuris gali naudoti įvairius neural networks libs, padaro jų api patogesniais naudotis\n",
    "# nuo tensorflow 2.0 keras yra built-in"
   ]
  },
  {
   "cell_type": "code",
   "execution_count": 18,
   "metadata": {
    "collapsed": true
   },
   "outputs": [],
   "source": [
    "# sukuriam sequential modelį ir pridedam į jį sluoksnius, kur nurodom neuronų kiekį ir aktivacijos funkciją.\n",
    "# Dense, tai reiškia kiekvienas neuronas sujungtas su kito sluoksnio neuronu.\n",
    "model = Sequential([Dense(4,activation='relu'),\n",
    "                   Dense(2,activation='relu'),\n",
    "                   Dense(1)])"
   ]
  },
  {
   "cell_type": "code",
   "execution_count": 19,
   "metadata": {
    "collapsed": true
   },
   "outputs": [],
   "source": [
    "# kitoks būdas tą patį padaryt. Dažniau naudojamas, nes galim komentint ir editint greit/patogiau.\n",
    "model = Sequential()\n",
    "model.add(Dense(4,activation='relu'))\n",
    "model.add(Dense(4,activation='relu'))\n",
    "model.add(Dense(4,activation='relu'))\n",
    "model.add(Dense(1))\n",
    "# galiausiai kompiluojame, pasirinkdami gradiento algoritmą ir klaidos funkciją\n",
    "model.compile(optimizer='rmsprop',loss='mse')"
   ]
  },
  {
   "cell_type": "markdown",
   "metadata": {},
   "source": [
    "### Choosing an optimizer and loss\n",
    "\n",
    "Keep in mind what kind of problem you are trying to solve:\n",
    "\n",
    "    # For a multi-class classification problem\n",
    "    model.compile(optimizer='rmsprop',\n",
    "                  loss='categorical_crossentropy',\n",
    "                  metrics=['accuracy'])\n",
    "\n",
    "    # For a binary classification problem\n",
    "    model.compile(optimizer='rmsprop',\n",
    "                  loss='binary_crossentropy',\n",
    "                  metrics=['accuracy'])\n",
    "\n",
    "    # For a mean squared error regression problem\n",
    "    model.compile(optimizer='rmsprop',\n",
    "                  loss='mse')"
   ]
  },
  {
   "cell_type": "code",
   "execution_count": 20,
   "metadata": {},
   "outputs": [
    {
     "data": {
      "text/plain": [
       "<keras.callbacks.History at 0x7f9176ba70f0>"
      ]
     },
     "execution_count": 20,
     "metadata": {},
     "output_type": "execute_result"
    }
   ],
   "source": [
    "# epochs - epochos t.y. kiek kartų iteruoti duomenis. epochs=1 reikštų, kad vieną kartą praėjom train duomenis\n",
    "model.fit(x=X_train,y=y_train,epochs=250,verbose=0)"
   ]
  },
  {
   "cell_type": "code",
   "execution_count": 21,
   "metadata": {},
   "outputs": [
    {
     "data": {
      "text/html": [
       "<div>\n",
       "<style scoped>\n",
       "    .dataframe tbody tr th:only-of-type {\n",
       "        vertical-align: middle;\n",
       "    }\n",
       "\n",
       "    .dataframe tbody tr th {\n",
       "        vertical-align: top;\n",
       "    }\n",
       "\n",
       "    .dataframe thead th {\n",
       "        text-align: right;\n",
       "    }\n",
       "</style>\n",
       "<table border=\"1\" class=\"dataframe\">\n",
       "  <thead>\n",
       "    <tr style=\"text-align: right;\">\n",
       "      <th></th>\n",
       "      <th>loss</th>\n",
       "    </tr>\n",
       "  </thead>\n",
       "  <tbody>\n",
       "    <tr>\n",
       "      <th>0</th>\n",
       "      <td>256893.765625</td>\n",
       "    </tr>\n",
       "    <tr>\n",
       "      <th>1</th>\n",
       "      <td>256763.156250</td>\n",
       "    </tr>\n",
       "    <tr>\n",
       "      <th>2</th>\n",
       "      <td>256691.171875</td>\n",
       "    </tr>\n",
       "    <tr>\n",
       "      <th>3</th>\n",
       "      <td>256626.656250</td>\n",
       "    </tr>\n",
       "    <tr>\n",
       "      <th>4</th>\n",
       "      <td>256557.484375</td>\n",
       "    </tr>\n",
       "    <tr>\n",
       "      <th>...</th>\n",
       "      <td>...</td>\n",
       "    </tr>\n",
       "    <tr>\n",
       "      <th>245</th>\n",
       "      <td>24.092621</td>\n",
       "    </tr>\n",
       "    <tr>\n",
       "      <th>246</th>\n",
       "      <td>24.382740</td>\n",
       "    </tr>\n",
       "    <tr>\n",
       "      <th>247</th>\n",
       "      <td>24.219872</td>\n",
       "    </tr>\n",
       "    <tr>\n",
       "      <th>248</th>\n",
       "      <td>24.537001</td>\n",
       "    </tr>\n",
       "    <tr>\n",
       "      <th>249</th>\n",
       "      <td>24.196705</td>\n",
       "    </tr>\n",
       "  </tbody>\n",
       "</table>\n",
       "<p>250 rows × 1 columns</p>\n",
       "</div>"
      ],
      "text/plain": [
       "              loss\n",
       "0    256893.765625\n",
       "1    256763.156250\n",
       "2    256691.171875\n",
       "3    256626.656250\n",
       "4    256557.484375\n",
       "..             ...\n",
       "245      24.092621\n",
       "246      24.382740\n",
       "247      24.219872\n",
       "248      24.537001\n",
       "249      24.196705\n",
       "\n",
       "[250 rows x 1 columns]"
      ]
     },
     "execution_count": 21,
     "metadata": {},
     "output_type": "execute_result"
    }
   ],
   "source": [
    "loss_df = pd.DataFrame(model.history.history)\n",
    "loss_df"
   ]
  },
  {
   "cell_type": "code",
   "execution_count": 23,
   "metadata": {},
   "outputs": [
    {
     "data": {
      "image/png": "[encoded data removed]",
      "text/plain": [
       "<Figure size 432x288 with 1 Axes>"
      ]
     },
     "metadata": {},
     "output_type": "display_data"
    }
   ],
   "source": [
    "loss_df.plot()\n",
    "plt.show()\n",
    "# matome, kad iš pradžių paklaidos labai didelės, bet iteruojant (\"mokantis\") mažėja."
   ]
  },
  {
   "cell_type": "code",
   "execution_count": 24,
   "metadata": {},
   "outputs": [
    {
     "data": {
      "text/plain": [
       "24.989856719970703"
      ]
     },
     "execution_count": 24,
     "metadata": {},
     "output_type": "execute_result"
    }
   ],
   "source": [
    "model.evaluate(X_test, y_test, verbose=0) # grąžina mse, įvertinam gerumą ant nematytų duomenų"
   ]
  },
  {
   "cell_type": "code",
   "execution_count": 25,
   "metadata": {},
   "outputs": [
    {
     "data": {
      "text/plain": [
       "24.15669059753418"
      ]
     },
     "execution_count": 25,
     "metadata": {},
     "output_type": "execute_result"
    }
   ],
   "source": [
    "model.evaluate(X_train, y_train, verbose=0) # grąžina mse"
   ]
  },
  {
   "cell_type": "code",
   "execution_count": 26,
   "metadata": {},
   "outputs": [
    {
     "data": {
      "text/plain": [
       "array([[404.95328],\n",
       "       [623.2102 ],\n",
       "       [591.80176],\n",
       "       [571.8944 ],\n",
       "       [366.27744]], dtype=float32)"
      ]
     },
     "execution_count": 26,
     "metadata": {},
     "output_type": "execute_result"
    }
   ],
   "source": [
    "preds = model.predict(X_test)\n",
    "preds[:5] # modelio spėjamos kainos"
   ]
  },
  {
   "cell_type": "code",
   "execution_count": 44,
   "metadata": {},
   "outputs": [
    {
     "data": {
      "text/html": [
       "<div>\n",
       "<style scoped>\n",
       "    .dataframe tbody tr th:only-of-type {\n",
       "        vertical-align: middle;\n",
       "    }\n",
       "\n",
       "    .dataframe tbody tr th {\n",
       "        vertical-align: top;\n",
       "    }\n",
       "\n",
       "    .dataframe thead th {\n",
       "        text-align: right;\n",
       "    }\n",
       "</style>\n",
       "<table border=\"1\" class=\"dataframe\">\n",
       "  <thead>\n",
       "    <tr style=\"text-align: right;\">\n",
       "      <th></th>\n",
       "      <th>Test True y</th>\n",
       "      <th>Model Predictions</th>\n",
       "    </tr>\n",
       "  </thead>\n",
       "  <tbody>\n",
       "    <tr>\n",
       "      <th>0</th>\n",
       "      <td>402.296319</td>\n",
       "      <td>404.953278</td>\n",
       "    </tr>\n",
       "    <tr>\n",
       "      <th>1</th>\n",
       "      <td>624.156198</td>\n",
       "      <td>623.210205</td>\n",
       "    </tr>\n",
       "    <tr>\n",
       "      <th>2</th>\n",
       "      <td>582.455066</td>\n",
       "      <td>591.801758</td>\n",
       "    </tr>\n",
       "    <tr>\n",
       "      <th>3</th>\n",
       "      <td>578.588606</td>\n",
       "      <td>571.894409</td>\n",
       "    </tr>\n",
       "    <tr>\n",
       "      <th>4</th>\n",
       "      <td>371.224104</td>\n",
       "      <td>366.277435</td>\n",
       "    </tr>\n",
       "  </tbody>\n",
       "</table>\n",
       "</div>"
      ],
      "text/plain": [
       "   Test True y  Model Predictions\n",
       "0   402.296319         404.953278\n",
       "1   624.156198         623.210205\n",
       "2   582.455066         591.801758\n",
       "3   578.588606         571.894409\n",
       "4   371.224104         366.277435"
      ]
     },
     "execution_count": 44,
     "metadata": {},
     "output_type": "execute_result"
    }
   ],
   "source": [
    "preds = pd.Series(preds.reshape(300,))\n",
    "pred_df = pd.concat([y_test.reset_index(drop=True),preds],axis=1)\n",
    "pred_df.columns = ['Test True y', 'Model Predictions']\n",
    "pred_df.head()"
   ]
  },
  {
   "cell_type": "code",
   "execution_count": 45,
   "metadata": {},
   "outputs": [
    {
     "data": {
      "image/png": "[encoded data removed]",
      "text/plain": [
       "<Figure size 432x288 with 1 Axes>"
      ]
     },
     "metadata": {},
     "output_type": "display_data"
    }
   ],
   "source": [
    "sns.scatterplot(data=pred_df,x='Test True y', y='Model Predictions')\n",
    "plt.show()"
   ]
  },
  {
   "cell_type": "code",
   "execution_count": 46,
   "metadata": {
    "collapsed": true
   },
   "outputs": [],
   "source": [
    "from sklearn.metrics import mean_squared_error, mean_absolute_error"
   ]
  },
  {
   "cell_type": "code",
   "execution_count": 48,
   "metadata": {},
   "outputs": [
    {
     "data": {
      "text/plain": [
       "24.98986093377535"
      ]
     },
     "execution_count": 48,
     "metadata": {},
     "output_type": "execute_result"
    }
   ],
   "source": [
    "mean_squared_error(pred_df['Test True y'],pred_df['Model Predictions'])\n",
    "# tas pats kaip: model.evaluate(X_test, y_test, verbose=0)"
   ]
  },
  {
   "cell_type": "code",
   "execution_count": 50,
   "metadata": {},
   "outputs": [
    {
     "data": {
      "text/plain": [
       "4.000151102309195"
      ]
     },
     "execution_count": 50,
     "metadata": {},
     "output_type": "execute_result"
    }
   ],
   "source": [
    "mean_absolute_error(pred_df['Test True y'],pred_df['Model Predictions'])\n",
    "# Ar gerai spėlioja modelis ?\n",
    "# paklaida yra 4 doleriai, galim pažiūrėt į price vidurkį ir min,max reikšmes ir pamatysim ar tai gerai ar blogai"
   ]
  },
  {
   "cell_type": "code",
   "execution_count": 51,
   "metadata": {},
   "outputs": [
    {
     "data": {
      "text/plain": [
       "count    1000.000000\n",
       "mean      498.673029\n",
       "std        93.785431\n",
       "min       223.346793\n",
       "25%       433.025732\n",
       "50%       502.382117\n",
       "75%       564.921588\n",
       "max       774.407854\n",
       "Name: price, dtype: float64"
      ]
     },
     "execution_count": 51,
     "metadata": {},
     "output_type": "execute_result"
    }
   ],
   "source": [
    "df['price'].describe()\n",
    "# matom, kad vidurkis 498, tai 4 doleriai yra mažiau už 3%, kas yra geras rezultatas\n",
    "# iš grafiko irgi matosi, nes praktiškai tiesė, beveik sutampa a.k.a x=y"
   ]
  },
  {
   "cell_type": "code",
   "execution_count": 52,
   "metadata": {},
   "outputs": [
    {
     "data": {
      "text/plain": [
       "array([[419.34933]], dtype=float32)"
      ]
     },
     "execution_count": 52,
     "metadata": {},
     "output_type": "execute_result"
    }
   ],
   "source": [
    "new_gem = [[998,1000]]\n",
    "new_gem = scaler.transform(new_gem)\n",
    "model.predict(new_gem) # naujo akmens kaina - 419$"
   ]
  },
  {
   "cell_type": "markdown",
   "metadata": {},
   "source": [
    "### modelio išsaugojimas:\n",
    "model.save('my_model.h5')\n",
    "from tensorflow.keras.models import load_model\n",
    "later_model = load_model('my_model.h5') # čia gali duot warning, tai tsg nekreipt dėmesio\n",
    "\n",
    "## Kiti parametrai ir dealing with overfiting\n",
    "\n",
    "Kai kviečiam fit, galim paduot parametrą - **validation_data=(X_test,y_test)**. Tuomet kiekvienoje iteracijoje palyginami spėjimai su tikraisiais duomenimis. Jie išsaugomi modelyje ir pasiekiami model.history.history. Tada gaunam du stulpelius, vienas klaidos funkcijos reikšmės ant train duomenų, kitas klaidos funkcijos reikšmės ant test (validacijos) duomenų. Turint šiuos duomenis galima paversti į df ir plot'int, taip pamatysim ar vyksta overfiting. Visalaiką turėtų mažėti klaidos vykstant iteracijoms. Jeigu validacijos paklaidos pradeda didėti, tai reiškia, kad vysta overfiting (modelis nesugeba normaliai spėlioti iš nematytų duomenų). Kol paklaidos mažėja tol teoriškai reiktšų toliau vykdyti iteracijas (nors galima ir nutraukti, jeigu nedaug progreso pasiekiam).\n",
    "\n",
    "Taip pat yra parametras **batch_size**. Jį naudojam, kai didelė duomenų apimtis, kad treniruoti modelį mažesnėmis imtimys. Dažnai pasirenkamas 2^?, pvz 128. Kuo mažesnis, tuo ilgiau užtruks apmokyti modelį, bet sumažėja tikimybė overfitinti (kadangi ne viską iškart paduodam, tai modelis geriau išmoks atpažinti nematytus duomenis).\n",
    "\n",
    "Sužinoti ar vyksta overfiting, jau žinom, kad galima paduot validation data ir nusipiešti grafiką. Ką daryti kai aptinkame overfiting ? Svarbu žinoti kaip sukurti modelį be overfiting. Tam naudojami early stop callbacks ir dropout layers.\n",
    "\n",
    "Galima anksti sustabdyti mokymo procesą pagal kokią nors sąlyga tikrinant ant validacijos duomenų. Paduodam funkcija su ta salyga - **early stop callback**.\n",
    "\n",
    "**Dropout sluoksnis** - sluoksnis su savybe išjungti kai kuriuos neuronus treniruojant, kad išvengti overfiting. Veikia taip: išmeta naudotojo pasirinktą procentą neuronų (prieš tai esančiame sluoksnyje) kiekvieną kartą paduodant naują batch (arba kiekvienoje epochoje, jeigu batch_size nenurodytas). Išjungti neuroną reiškia nebeatnaujinti jo svorių ir šališkumo parametrų.\n",
    "\n",
    "## Toliau klasifikacijos pvz."
   ]
  },
  {
   "cell_type": "code",
   "execution_count": 63,
   "metadata": {},
   "outputs": [
    {
     "data": {
      "text/html": [
       "<div>\n",
       "<style scoped>\n",
       "    .dataframe tbody tr th:only-of-type {\n",
       "        vertical-align: middle;\n",
       "    }\n",
       "\n",
       "    .dataframe tbody tr th {\n",
       "        vertical-align: top;\n",
       "    }\n",
       "\n",
       "    .dataframe thead th {\n",
       "        text-align: right;\n",
       "    }\n",
       "</style>\n",
       "<table border=\"1\" class=\"dataframe\">\n",
       "  <thead>\n",
       "    <tr style=\"text-align: right;\">\n",
       "      <th></th>\n",
       "      <th>mean radius</th>\n",
       "      <th>mean texture</th>\n",
       "      <th>mean perimeter</th>\n",
       "      <th>mean area</th>\n",
       "      <th>mean smoothness</th>\n",
       "      <th>mean compactness</th>\n",
       "      <th>mean concavity</th>\n",
       "      <th>mean concave points</th>\n",
       "      <th>mean symmetry</th>\n",
       "      <th>mean fractal dimension</th>\n",
       "      <th>...</th>\n",
       "      <th>worst texture</th>\n",
       "      <th>worst perimeter</th>\n",
       "      <th>worst area</th>\n",
       "      <th>worst smoothness</th>\n",
       "      <th>worst compactness</th>\n",
       "      <th>worst concavity</th>\n",
       "      <th>worst concave points</th>\n",
       "      <th>worst symmetry</th>\n",
       "      <th>worst fractal dimension</th>\n",
       "      <th>benign_0__mal_1</th>\n",
       "    </tr>\n",
       "  </thead>\n",
       "  <tbody>\n",
       "    <tr>\n",
       "      <th>0</th>\n",
       "      <td>17.99</td>\n",
       "      <td>10.38</td>\n",
       "      <td>122.80</td>\n",
       "      <td>1001.0</td>\n",
       "      <td>0.11840</td>\n",
       "      <td>0.27760</td>\n",
       "      <td>0.3001</td>\n",
       "      <td>0.14710</td>\n",
       "      <td>0.2419</td>\n",
       "      <td>0.07871</td>\n",
       "      <td>...</td>\n",
       "      <td>17.33</td>\n",
       "      <td>184.60</td>\n",
       "      <td>2019.0</td>\n",
       "      <td>0.1622</td>\n",
       "      <td>0.6656</td>\n",
       "      <td>0.7119</td>\n",
       "      <td>0.2654</td>\n",
       "      <td>0.4601</td>\n",
       "      <td>0.11890</td>\n",
       "      <td>0</td>\n",
       "    </tr>\n",
       "    <tr>\n",
       "      <th>1</th>\n",
       "      <td>20.57</td>\n",
       "      <td>17.77</td>\n",
       "      <td>132.90</td>\n",
       "      <td>1326.0</td>\n",
       "      <td>0.08474</td>\n",
       "      <td>0.07864</td>\n",
       "      <td>0.0869</td>\n",
       "      <td>0.07017</td>\n",
       "      <td>0.1812</td>\n",
       "      <td>0.05667</td>\n",
       "      <td>...</td>\n",
       "      <td>23.41</td>\n",
       "      <td>158.80</td>\n",
       "      <td>1956.0</td>\n",
       "      <td>0.1238</td>\n",
       "      <td>0.1866</td>\n",
       "      <td>0.2416</td>\n",
       "      <td>0.1860</td>\n",
       "      <td>0.2750</td>\n",
       "      <td>0.08902</td>\n",
       "      <td>0</td>\n",
       "    </tr>\n",
       "    <tr>\n",
       "      <th>2</th>\n",
       "      <td>19.69</td>\n",
       "      <td>21.25</td>\n",
       "      <td>130.00</td>\n",
       "      <td>1203.0</td>\n",
       "      <td>0.10960</td>\n",
       "      <td>0.15990</td>\n",
       "      <td>0.1974</td>\n",
       "      <td>0.12790</td>\n",
       "      <td>0.2069</td>\n",
       "      <td>0.05999</td>\n",
       "      <td>...</td>\n",
       "      <td>25.53</td>\n",
       "      <td>152.50</td>\n",
       "      <td>1709.0</td>\n",
       "      <td>0.1444</td>\n",
       "      <td>0.4245</td>\n",
       "      <td>0.4504</td>\n",
       "      <td>0.2430</td>\n",
       "      <td>0.3613</td>\n",
       "      <td>0.08758</td>\n",
       "      <td>0</td>\n",
       "    </tr>\n",
       "    <tr>\n",
       "      <th>3</th>\n",
       "      <td>11.42</td>\n",
       "      <td>20.38</td>\n",
       "      <td>77.58</td>\n",
       "      <td>386.1</td>\n",
       "      <td>0.14250</td>\n",
       "      <td>0.28390</td>\n",
       "      <td>0.2414</td>\n",
       "      <td>0.10520</td>\n",
       "      <td>0.2597</td>\n",
       "      <td>0.09744</td>\n",
       "      <td>...</td>\n",
       "      <td>26.50</td>\n",
       "      <td>98.87</td>\n",
       "      <td>567.7</td>\n",
       "      <td>0.2098</td>\n",
       "      <td>0.8663</td>\n",
       "      <td>0.6869</td>\n",
       "      <td>0.2575</td>\n",
       "      <td>0.6638</td>\n",
       "      <td>0.17300</td>\n",
       "      <td>0</td>\n",
       "    </tr>\n",
       "    <tr>\n",
       "      <th>4</th>\n",
       "      <td>20.29</td>\n",
       "      <td>14.34</td>\n",
       "      <td>135.10</td>\n",
       "      <td>1297.0</td>\n",
       "      <td>0.10030</td>\n",
       "      <td>0.13280</td>\n",
       "      <td>0.1980</td>\n",
       "      <td>0.10430</td>\n",
       "      <td>0.1809</td>\n",
       "      <td>0.05883</td>\n",
       "      <td>...</td>\n",
       "      <td>16.67</td>\n",
       "      <td>152.20</td>\n",
       "      <td>1575.0</td>\n",
       "      <td>0.1374</td>\n",
       "      <td>0.2050</td>\n",
       "      <td>0.4000</td>\n",
       "      <td>0.1625</td>\n",
       "      <td>0.2364</td>\n",
       "      <td>0.07678</td>\n",
       "      <td>0</td>\n",
       "    </tr>\n",
       "  </tbody>\n",
       "</table>\n",
       "<p>5 rows × 31 columns</p>\n",
       "</div>"
      ],
      "text/plain": [
       "   mean radius  mean texture  mean perimeter  mean area  mean smoothness  \\\n",
       "0        17.99         10.38          122.80     1001.0          0.11840   \n",
       "1        20.57         17.77          132.90     1326.0          0.08474   \n",
       "2        19.69         21.25          130.00     1203.0          0.10960   \n",
       "3        11.42         20.38           77.58      386.1          0.14250   \n",
       "4        20.29         14.34          135.10     1297.0          0.10030   \n",
       "\n",
       "   mean compactness  mean concavity  mean concave points  mean symmetry  \\\n",
       "0           0.27760          0.3001              0.14710         0.2419   \n",
       "1           0.07864          0.0869              0.07017         0.1812   \n",
       "2           0.15990          0.1974              0.12790         0.2069   \n",
       "3           0.28390          0.2414              0.10520         0.2597   \n",
       "4           0.13280          0.1980              0.10430         0.1809   \n",
       "\n",
       "   mean fractal dimension  ...  worst texture  worst perimeter  worst area  \\\n",
       "0                 0.07871  ...          17.33           184.60      2019.0   \n",
       "1                 0.05667  ...          23.41           158.80      1956.0   \n",
       "2                 0.05999  ...          25.53           152.50      1709.0   \n",
       "3                 0.09744  ...          26.50            98.87       567.7   \n",
       "4                 0.05883  ...          16.67           152.20      1575.0   \n",
       "\n",
       "   worst smoothness  worst compactness  worst concavity  worst concave points  \\\n",
       "0            0.1622             0.6656           0.7119                0.2654   \n",
       "1            0.1238             0.1866           0.2416                0.1860   \n",
       "2            0.1444             0.4245           0.4504                0.2430   \n",
       "3            0.2098             0.8663           0.6869                0.2575   \n",
       "4            0.1374             0.2050           0.4000                0.1625   \n",
       "\n",
       "   worst symmetry  worst fractal dimension  benign_0__mal_1  \n",
       "0          0.4601                  0.11890                0  \n",
       "1          0.2750                  0.08902                0  \n",
       "2          0.3613                  0.08758                0  \n",
       "3          0.6638                  0.17300                0  \n",
       "4          0.2364                  0.07678                0  \n",
       "\n",
       "[5 rows x 31 columns]"
      ]
     },
     "execution_count": 63,
     "metadata": {},
     "output_type": "execute_result"
    }
   ],
   "source": [
    "df = pd.read_csv('inp_files/cancer_classification.csv')\n",
    "df.head()"
   ]
  },
  {
   "cell_type": "code",
   "execution_count": 64,
   "metadata": {
    "collapsed": true
   },
   "outputs": [],
   "source": [
    "X = df.drop('benign_0__mal_1',axis=1).values # values returns regular python list instead of numpy array\n",
    "y = df['benign_0__mal_1'].values # we need values, because tensorflow does not work well with numpy arrays"
   ]
  },
  {
   "cell_type": "code",
   "execution_count": 65,
   "metadata": {
    "collapsed": true
   },
   "outputs": [],
   "source": [
    "X_train, X_test, y_train, y_test = train_test_split(X,y,test_size=0.25,random_state=101)"
   ]
  },
  {
   "cell_type": "code",
   "execution_count": 66,
   "metadata": {
    "collapsed": true
   },
   "outputs": [],
   "source": [
    "scaler = MinMaxScaler()\n",
    "X_train = scaler.fit_transform(X_train)\n",
    "X_test = scaler.transform(X_test)"
   ]
  },
  {
   "cell_type": "code",
   "execution_count": 59,
   "metadata": {
    "collapsed": true
   },
   "outputs": [],
   "source": [
    "from tensorflow.keras.layers import Dropout"
   ]
  },
  {
   "cell_type": "code",
   "execution_count": 67,
   "metadata": {},
   "outputs": [
    {
     "data": {
      "text/plain": [
       "(426, 30)"
      ]
     },
     "execution_count": 67,
     "metadata": {},
     "output_type": "execute_result"
    }
   ],
   "source": [
    "X_train.shape # turime ganėtinai mažai eilučių ir 30 bruožų"
   ]
  },
  {
   "cell_type": "code",
   "execution_count": 68,
   "metadata": {
    "collapsed": true
   },
   "outputs": [],
   "source": [
    "model = Sequential()\n",
    "model.add(Dense(30,activation='relu'))\n",
    "model.add(Dense(15,activation='relu'))\n",
    "# kadangi vyksta binarinė klasifikacija (yra/nėra vėžio) naudojam sigmoid išvesties sluoksnyje\n",
    "model.add(Dense(1,activation='sigmoid'))\n",
    "\n",
    "model.compile(loss='binary_crossentropy', optimizer='adam')"
   ]
  },
  {
   "cell_type": "code",
   "execution_count": 69,
   "metadata": {},
   "outputs": [
    {
     "data": {
      "text/plain": [
       "<keras.callbacks.History at 0x7f9174c625f8>"
      ]
     },
     "execution_count": 69,
     "metadata": {},
     "output_type": "execute_result"
    }
   ],
   "source": [
    "model.fit(x=X_train,y=y_train,epochs=600, validation_data=(X_test,y_test), verbose=0)\n",
    "# pasirinkome labai per daug epochų, kad pamatyt overfiting"
   ]
  },
  {
   "cell_type": "code",
   "execution_count": 70,
   "metadata": {},
   "outputs": [
    {
     "data": {
      "image/png": "[encoded data removed]",
      "text/plain": [
       "<Figure size 432x288 with 1 Axes>"
      ]
     },
     "metadata": {},
     "output_type": "display_data"
    }
   ],
   "source": [
    "pd.DataFrame(model.history.history).plot()\n",
    "plt.show()\n",
    "# matome overfiting, ant treniruojamų duomenų paklaidos mažėja (mėlina)\n",
    "# bet ant nematytų test/validation duomenų (oranžinė) paklaidos pradeda didėti po tam tikro epochų skaičiaus\n",
    "# akivaizdu, kad naudojam per daug epochų"
   ]
  },
  {
   "cell_type": "code",
   "execution_count": 71,
   "metadata": {
    "collapsed": true
   },
   "outputs": [],
   "source": [
    "# dabar pažiūrėkim, kaip galim to išvengti su early stop functions\n",
    "# prima, iš naujo pasigaminam modelį tą patį modelį\n",
    "model = Sequential()\n",
    "model.add(Dense(30,activation='relu'))\n",
    "model.add(Dense(15,activation='relu'))\n",
    "model.add(Dense(1,activation='sigmoid'))\n",
    "model.compile(loss='binary_crossentropy', optimizer='adam')"
   ]
  },
  {
   "cell_type": "code",
   "execution_count": 72,
   "metadata": {
    "collapsed": true
   },
   "outputs": [],
   "source": [
    "from tensorflow.keras.callbacks import EarlyStopping"
   ]
  },
  {
   "cell_type": "code",
   "execution_count": 73,
   "metadata": {
    "collapsed": true
   },
   "outputs": [],
   "source": [
    "# seksime paklaidas ir žiūrėsim ar jos mažėja (minimizuojam)\n",
    "# patience - kiek epochų palaukti kol nutraukiam mokymą t.y. ne iš karto, kai nustoja mažėti paklaidos\n",
    "# o palaukti biški, nes gal tiesiog galėjo nuo duomenų triukšmo pradėti mažėti\n",
    "early_stop = EarlyStopping(monitor='val_loss',mode='min',patience=25,verbose=0)"
   ]
  },
  {
   "cell_type": "code",
   "execution_count": 74,
   "metadata": {},
   "outputs": [
    {
     "data": {
      "text/plain": [
       "<keras.callbacks.History at 0x7f9174dd5b70>"
      ]
     },
     "execution_count": 74,
     "metadata": {},
     "output_type": "execute_result"
    }
   ],
   "source": [
    "model.fit(x=X_train,y=y_train,epochs=600, validation_data=(X_test,y_test), verbose=0, callbacks=[early_stop])\n",
    "# per verbose, galima pamatyti, kokius loss skaičiuoja kiekvienoje iteracijoje ir kada nustojo mokymą\n",
    "# kadangi padavėm eraly stoping, tai nebereikia jaudintis dėl pasirinkto epochų skaičiaus"
   ]
  },
  {
   "cell_type": "code",
   "execution_count": 75,
   "metadata": {},
   "outputs": [
    {
     "data": {
      "image/png": "[encoded data removed]",
      "text/plain": [
       "<Figure size 432x288 with 1 Axes>"
      ]
     },
     "metadata": {},
     "output_type": "display_data"
    }
   ],
   "source": [
    "pd.DataFrame(model.history.history).plot()\n",
    "plt.show()\n",
    "# tą ir norime matyti, abiejų aibių paklaidos mažėja ir kai pradeda tolti viena nuo kitos sustojam.\n",
    "# oranžinė kreivė dar tęsiasi toliau, nes mes pasirinkom 25 epochas dar runnint papildomai po padidėjimo\n",
    "# matosi maži padidėjimai, sumažėjimai, tai normalu, nes maždaug tiesiai eina kreivė, svarbu, kad nebūtų\n",
    "# didelio paklimo, šuolio į viršų."
   ]
  },
  {
   "cell_type": "code",
   "execution_count": 77,
   "metadata": {
    "collapsed": true
   },
   "outputs": [],
   "source": [
    "# dabar pažiūrėkim, kaip galim to išvengti su dropout layers\n",
    "# prima, iš naujo pasigaminam modelį tą patį modelį\n",
    "model = Sequential()\n",
    "model.add(Dense(30,activation='relu'))\n",
    "model.add(Dropout(0.5))\n",
    "# 50% procentų atsitiktinai pasirinktų neuronų išjungsim po kiekvienos epochos.\n",
    "# Kiekvieną kartą išjungiami ne tie patys, o kiti 50% atsitiktinių neuronų.\n",
    "# Dažnai pasirenkama išjungti 20%-50%. Tai turėtų dar labiau sumažinti overfiting.\n",
    "\n",
    "model.add(Dense(15,activation='relu'))\n",
    "model.add(Dropout(0.5))\n",
    "\n",
    "model.add(Dense(1,activation='sigmoid'))\n",
    "model.compile(loss='binary_crossentropy', optimizer='adam')"
   ]
  },
  {
   "cell_type": "code",
   "execution_count": 78,
   "metadata": {},
   "outputs": [
    {
     "data": {
      "text/plain": [
       "<keras.callbacks.History at 0x7f9168e1e470>"
      ]
     },
     "execution_count": 78,
     "metadata": {},
     "output_type": "execute_result"
    }
   ],
   "source": [
    "model.fit(x=X_train,y=y_train,epochs=600, validation_data=(X_test,y_test), verbose=0, callbacks=[early_stop])\n",
    "# jeigu su verbose būtųme fitine, pamatytumėme, kad dabar daugiau epochų mokėsi kol įvyko early_stop.\n",
    "# Taip yra dėl išjungiamų neuronų, ir tai gerai, nes daugiau laiko mokėsi modelis."
   ]
  },
  {
   "cell_type": "code",
   "execution_count": 79,
   "metadata": {},
   "outputs": [
    {
     "data": {
      "image/png": "[encoded data removed]",
      "text/plain": [
       "<Figure size 432x288 with 1 Axes>"
      ]
     },
     "metadata": {},
     "output_type": "display_data"
    }
   ],
   "source": [
    "pd.DataFrame(model.history.history).plot()\n",
    "plt.show()\n",
    "# dabar dar geriau. Netgi fantastiška, nes abiejų aibių paklaidos mažėja vienodai ir plokšėja, o ne didėja.\n",
    "# palyginus su pirmuoju grafiku, kur jau po 100 epochų buvo didelis overfiting\n",
    "# dabar treniruojam beveik 200 ir kreivės beveik sutampa."
   ]
  },
  {
   "cell_type": "markdown",
   "metadata": {},
   "source": [
    "tensorflow\\python\\keras\\engine\\sequential.py:455: UserWarning: model.predict_classes() is deprecated and will be removed after 2021-01-01. Please use instead: **np.argmax(model.predict(x), axis=-1)**, if your model does multi-class classification (e.g. if it uses a softmax last-layer activation). **(model.predict(x) > 0.5).astype(\"int32\")**, if your model does binary classification (e.g. if it uses a sigmoid last-layer activation)."
   ]
  },
  {
   "cell_type": "code",
   "execution_count": 85,
   "metadata": {},
   "outputs": [
    {
     "data": {
      "text/plain": [
       "array([[1],\n",
       "       [1],\n",
       "       [1],\n",
       "       [0],\n",
       "       [1],\n",
       "       [1],\n",
       "       [1],\n",
       "       [0],\n",
       "       [1],\n",
       "       [1]], dtype=int32)"
      ]
     },
     "execution_count": 85,
     "metadata": {},
     "output_type": "execute_result"
    }
   ],
   "source": [
    "preds = (model.predict(X_test) > 0.5).astype(\"int32\")\n",
    "preds[:10]"
   ]
  },
  {
   "cell_type": "code",
   "execution_count": 86,
   "metadata": {
    "collapsed": true
   },
   "outputs": [],
   "source": [
    "from sklearn.metrics import classification_report, confusion_matrix"
   ]
  },
  {
   "cell_type": "code",
   "execution_count": 87,
   "metadata": {},
   "outputs": [
    {
     "name": "stdout",
     "output_type": "stream",
     "text": [
      "              precision    recall  f1-score   support\n",
      "\n",
      "           0       0.95      0.98      0.96        55\n",
      "           1       0.99      0.97      0.98        88\n",
      "\n",
      "    accuracy                           0.97       143\n",
      "   macro avg       0.97      0.97      0.97       143\n",
      "weighted avg       0.97      0.97      0.97       143\n",
      "\n"
     ]
    }
   ],
   "source": [
    "print(classification_report(y_test,preds))\n",
    "# geri įverčiai, geras tikslumas (accuracy)\n",
    "# tikslumas, mums tinka kaip metrika, nes sąlyginai balansuota klasė t.y. apyligiai nulių ir vientų klasėje"
   ]
  },
  {
   "cell_type": "code",
   "execution_count": 88,
   "metadata": {},
   "outputs": [
    {
     "data": {
      "text/plain": [
       "array([[54,  1],\n",
       "       [ 3, 85]])"
      ]
     },
     "execution_count": 88,
     "metadata": {},
     "output_type": "execute_result"
    }
   ],
   "source": [
    "confusion_matrix(y_test,preds) # nedaug blogai klasifikuotų, tik 4"
   ]
  },
  {
   "cell_type": "markdown",
   "metadata": {},
   "source": [
    "### Tensorboard\n",
    "\n",
    "Tensorboard - yra atskira programa, kuri kaip jupyter-notebook dirba ant kokio nors port ir pasieki naršyklėje per localhost. Ten gali pažiūrėti savo modelio vizualizacijas visokias ir labiau jį tirinėti. Tam įgalinti reikia, paduoti TensorBoard callbaką (lygiai taip pat kaip su EarlyStoping viršuj). Per jį susikonfigini ką nori, kad įrašytų/išsaugotų ir į kokią direktoriją (default logs/fit). Tuomet paleidi tensorboard programą ir paduoti tą direktoriją į kuria įrašė visą modelio info.\n",
    "\n",
    "Daugiau info: tensorflow.org/tensorboard/get_started"
   ]
  },
  {
   "cell_type": "code",
   "execution_count": null,
   "metadata": {
    "collapsed": true
   },
   "outputs": [],
   "source": []
  }
 ],
 "metadata": {
  "kernelspec": {
   "display_name": "Python 3",
   "language": "python",
   "name": "python3"
  },
  "language_info": {
   "codemirror_mode": {
    "name": "ipython",
    "version": 3
   },
   "file_extension": ".py",
   "mimetype": "text/x-python",
   "name": "python",
   "nbconvert_exporter": "python",
   "pygments_lexer": "ipython3",
   "version": "3.6.3"
  }
 },
 "nbformat": 4,
 "nbformat_minor": 2
}
